{
 "cells": [
  {
   "cell_type": "markdown",
   "id": "7f580b24-8e8b-45f6-9d0e-58e17079cf82",
   "metadata": {},
   "source": [
    "# Data Science Tools and Ecosystem"
   ]
  },
  {
   "cell_type": "markdown",
   "id": "c2aee4f6-352b-4415-8e25-854d990af70e",
   "metadata": {},
   "source": [
    "In this notebook, Data Science Tools and Ecosystem and summarized."
   ]
  },
  {
   "cell_type": "markdown",
   "id": "7c2eb227-ecfe-417b-9047-6d5ebd14154d",
   "metadata": {},
   "source": [
    "**Objectives:**\n",
    "- List popular languages for Data Science\n",
    "- List commonly used libraries for Data Science\n",
    "- Tabulate Data Science tools\n",
    "- Write and execute a simple arithmetic expression"
   ]
  },
  {
   "cell_type": "markdown",
   "id": "1207a68c-0107-4747-bb22-9a515e5dbbb3",
   "metadata": {},
   "source": [
    "Some of the popular languages that Data Scientists use are:\n",
    "1. Python\n",
    "2. Java\n",
    "3. R"
   ]
  },
  {
   "cell_type": "markdown",
   "id": "41356060-0336-4a51-ae2a-62da13e92b3e",
   "metadata": {},
   "source": [
    "Some of the commonly used libraries used by Data Scientists include:\n",
    "1. Pandas\n",
    "2. Matplotlib\n",
    "3. Scikit-learn"
   ]
  },
  {
   "cell_type": "markdown",
   "id": "d4b0d942-d733-4891-90ef-3d7b33e2ecff",
   "metadata": {},
   "source": [
    "|Data Science Tools|\n",
    "|------------------|\n",
    "|Spyder|\n",
    "|RStudio|\n",
    "|Anaconda Navigator|"
   ]
  },
  {
   "cell_type": "markdown",
   "id": "5d9b3ee5-68de-4d96-85e8-6ab8ce7273dd",
   "metadata": {},
   "source": [
    "### Below are a few examples of evaluating arithmetic expressions in Python"
   ]
  },
  {
   "cell_type": "code",
   "execution_count": 2,
   "id": "ed38165c-3a1d-4ec5-a497-e4aacd031162",
   "metadata": {},
   "outputs": [
    {
     "data": {
      "text/plain": [
       "17"
      ]
     },
     "execution_count": 2,
     "metadata": {},
     "output_type": "execute_result"
    }
   ],
   "source": [
    "# This is a simple arithmetic expression to multiply, then add integers\n",
    "\n",
    "(3*4)+5"
   ]
  },
  {
   "cell_type": "code",
   "execution_count": 3,
   "id": "52297aa3-5f38-43ac-89ba-290eb110e282",
   "metadata": {},
   "outputs": [
    {
     "data": {
      "text/plain": [
       "3.3333333333333335"
      ]
     },
     "execution_count": 3,
     "metadata": {},
     "output_type": "execute_result"
    }
   ],
   "source": [
    "# This will convert 200 minutes to hours by dividing by 60\n",
    "\n",
    "200/60"
   ]
  },
  {
   "cell_type": "markdown",
   "id": "2cd82017-bbae-470f-9b35-fa595c51e974",
   "metadata": {},
   "source": [
    "## Author\n",
    "Prathamesh Pavaskar"
   ]
  },
  {
   "cell_type": "code",
   "execution_count": null,
   "id": "7ba510d4-2a86-42ee-a365-850c2a9e4003",
   "metadata": {},
   "outputs": [],
   "source": []
  }
 ],
 "metadata": {
  "kernelspec": {
   "display_name": "Python 3 (ipykernel)",
   "language": "python",
   "name": "python3"
  },
  "language_info": {
   "codemirror_mode": {
    "name": "ipython",
    "version": 3
   },
   "file_extension": ".py",
   "mimetype": "text/x-python",
   "name": "python",
   "nbconvert_exporter": "python",
   "pygments_lexer": "ipython3",
   "version": "3.12.8"
  }
 },
 "nbformat": 4,
 "nbformat_minor": 5
}
